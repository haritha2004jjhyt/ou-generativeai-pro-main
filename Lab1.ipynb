{
 "cells": [
  {
   "cell_type": "code",
   "execution_count": 1,
   "id": "c4384412-02d9-4aeb-8419-f3f3a51e0c45",
   "metadata": {},
   "outputs": [],
   "source": [
    "# Import the necessary libraries \n",
    "import oci \n",
    "from LoadProperties import LoadProperties \n",
    "# Setup basic variables \n",
    "properties = LoadProperties()"
   ]
  },
  {
   "cell_type": "code",
   "execution_count": 2,
   "id": "19f3b876-e890-4d9c-8601-22b77058e7f1",
   "metadata": {},
   "outputs": [],
   "source": [
    "# Use Instance Principals for Authentication \n",
    "signer = oci.auth.signers.InstancePrincipalsSecurityTokenSigner() "
   ]
  },
  {
   "cell_type": "code",
   "execution_count": 3,
   "id": "27c67460-f405-4343-adf1-fd613c5aa63b",
   "metadata": {},
   "outputs": [],
   "source": [
    "# Initialize the Generative AI Client \n",
    "generative_ai_inference_client = oci.generative_ai_inference.GenerativeAiInferenceClient( \n",
    "config={}, \n",
    "signer=signer, \n",
    "service_endpoint=properties.getEndpoint(), \n",
    "retry_strategy=oci.retry.NoneRetryStrategy(), \n",
    "timeout=(10, 240) \n",
    ") "
   ]
  },
  {
   "cell_type": "code",
   "execution_count": 4,
   "id": "dfab691d-08c8-4bcd-a961-a45701e30a75",
   "metadata": {},
   "outputs": [],
   "source": [
    "# Set Up Chat Request Details \n",
    "chat_detail = oci.generative_ai_inference.models.ChatDetails() \n",
    "chat_request = oci.generative_ai_inference.models.CohereChatRequest() \n",
    "chat_request.message = \"How does a telescope work\"\n",
    "chat_request.max_tokens = 600 \n",
    "chat_request.temperature = 1 \n",
    "chat_request.frequency_penalty = 0 \n",
    "chat_request.top_p = 0.75 \n",
    "chat_request.top_k = 0 "
   ]
  },
  {
   "cell_type": "code",
   "execution_count": 5,
   "id": "41fa7f76-b393-4041-a81a-7d3be2ba5945",
   "metadata": {},
   "outputs": [],
   "source": [
    "# Configure Chat Details \n",
    "chat_detail.serving_mode = oci.generative_ai_inference.models.OnDemandServingMode(model_id=properties.getModelName()) \n",
    "chat_detail.chat_request = chat_request \n",
    "chat_detail.compartment_id = properties.getCompartment()"
   ]
  },
  {
   "cell_type": "code",
   "execution_count": 6,
   "id": "99029641-7759-45c9-9f55-e25a6e6d098c",
   "metadata": {},
   "outputs": [
    {
     "name": "stdout",
     "output_type": "stream",
     "text": [
      "******************ChatResult******************\n",
      "{'status': 200, 'headers': {'content-type': 'application/json', 'opc-request-id': '15E5DE4561F245C8A8C43306CFDC4D17/866340C0FF53B80CFCC70A05626800B9/273BC75A1ED76059D40944B9B4602097', 'content-encoding': 'gzip', 'content-length': '1490'}, 'data': {\n",
      "  \"chat_response\": {\n",
      "    \"api_format\": \"COHERE\",\n",
      "    \"chat_history\": [\n",
      "      {\n",
      "        \"message\": \"How does a telescope work\",\n",
      "        \"role\": \"USER\"\n",
      "      },\n",
      "      {\n",
      "        \"message\": \"A telescope is an optical instrument designed to collect light from distant objects, allowing us to see them with greater detail and clarity. Here's a simplified explanation of how a telescope works:\\n\\n1. Light Collection: The primary purpose of a telescope is to gather light from a celestial object, such as a star, planet, galaxy, or nebula. This light enters the telescope's main opening, known as the objective aperture.\\n\\n2. Refraction or Reflection: Telescopes can be broadly categorized into two main types based on how they focus the incoming light:\\n   - Refracting Telescopes (Refrators): These telescopes use a lens, known as the objective lens, to collect and focus the light. The objective lens refracts (bends) the light rays, bringing them to a focus at a specific point.\\n   - Reflecting Telescopes (Reflectors): Reflecting telescopes use a mirror, called the primary mirror, to collect and reflect the light. The primary mirror is curved and positioned at the bottom end of the telescope tube. It reflects the incoming light towards a smaller, secondary mirror, which then reflects the light out through an opening in the primary mirror.\\n\\n3. Focusing: Once the light is collected and focused by the lens or mirror, it is directed towards an eyepiece at the other end of the telescope. The eyepiece is a smaller lens that further magnifies the image and allows the viewer to focus on the object being observed. By adjusting the position of the eyepiece or the focuser, the observer can bring the image into sharp focus.\\n\\n4. Image Formation: As the light passes through the eyepiece, it forms an image of the celestial object. The image may be inverted (upside down) or mirrored, depending on the telescope's design. Some telescopes have additional optics to correct for this and provide a right-side-up image.\\n\\n5. Magnification: Telescopes provide magnification, allowing observers to see distant objects as if they were much closer. The magnification power of a telescope is determined by the combination of the focal length of the objective lens or mirror and the focal length of the eyepiece. The longer the focal length of the objective, the greater the potential magnification.\\n\\n6. Mount and Tracking: Telescopes are often mounted on stable stands or tripods to keep them steady during observation. Many telescopes also have tracking mechanisms that allow them to follow the movement of celestial objects across the sky, compensating for the Earth's rotation and ensuring a steady view.\\n\\nTelescopes come in various sizes and designs, and their performance depends on factors such as aperture size (the diameter of the main lens or mirror), optical quality, and the type of mount used. Modern telescopes also incorporate advanced technologies, such as computer-controlled systems and digital imaging, to enhance the observing experience and enable more detailed astronomical research.\",\n",
      "        \"role\": \"CHATBOT\",\n",
      "        \"tool_calls\": null\n",
      "      }\n",
      "    ],\n",
      "    \"citations\": null,\n",
      "    \"documents\": null,\n",
      "    \"error_message\": null,\n",
      "    \"finish_reason\": \"COMPLETE\",\n",
      "    \"is_search_required\": null,\n",
      "    \"prompt\": null,\n",
      "    \"search_queries\": null,\n",
      "    \"text\": \"A telescope is an optical instrument designed to collect light from distant objects, allowing us to see them with greater detail and clarity. Here's a simplified explanation of how a telescope works:\\n\\n1. Light Collection: The primary purpose of a telescope is to gather light from a celestial object, such as a star, planet, galaxy, or nebula. This light enters the telescope's main opening, known as the objective aperture.\\n\\n2. Refraction or Reflection: Telescopes can be broadly categorized into two main types based on how they focus the incoming light:\\n   - Refracting Telescopes (Refrators): These telescopes use a lens, known as the objective lens, to collect and focus the light. The objective lens refracts (bends) the light rays, bringing them to a focus at a specific point.\\n   - Reflecting Telescopes (Reflectors): Reflecting telescopes use a mirror, called the primary mirror, to collect and reflect the light. The primary mirror is curved and positioned at the bottom end of the telescope tube. It reflects the incoming light towards a smaller, secondary mirror, which then reflects the light out through an opening in the primary mirror.\\n\\n3. Focusing: Once the light is collected and focused by the lens or mirror, it is directed towards an eyepiece at the other end of the telescope. The eyepiece is a smaller lens that further magnifies the image and allows the viewer to focus on the object being observed. By adjusting the position of the eyepiece or the focuser, the observer can bring the image into sharp focus.\\n\\n4. Image Formation: As the light passes through the eyepiece, it forms an image of the celestial object. The image may be inverted (upside down) or mirrored, depending on the telescope's design. Some telescopes have additional optics to correct for this and provide a right-side-up image.\\n\\n5. Magnification: Telescopes provide magnification, allowing observers to see distant objects as if they were much closer. The magnification power of a telescope is determined by the combination of the focal length of the objective lens or mirror and the focal length of the eyepiece. The longer the focal length of the objective, the greater the potential magnification.\\n\\n6. Mount and Tracking: Telescopes are often mounted on stable stands or tripods to keep them steady during observation. Many telescopes also have tracking mechanisms that allow them to follow the movement of celestial objects across the sky, compensating for the Earth's rotation and ensuring a steady view.\\n\\nTelescopes come in various sizes and designs, and their performance depends on factors such as aperture size (the diameter of the main lens or mirror), optical quality, and the type of mount used. Modern telescopes also incorporate advanced technologies, such as computer-controlled systems and digital imaging, to enhance the observing experience and enable more detailed astronomical research.\",\n",
      "    \"tool_calls\": null\n",
      "  },\n",
      "  \"model_id\": \"cohere.command-r-08-2024\",\n",
      "  \"model_version\": \"1.7\"\n",
      "}, 'request': <oci.request.Request object at 0x7f290c41bc10>, 'next_page': None, 'request_id': '15E5DE4561F245C8A8C43306CFDC4D17/866340C0FF53B80CFCC70A05626800B9/273BC75A1ED76059D40944B9B4602097'}\n"
     ]
    }
   ],
   "source": [
    "# Make the Chat Request and Retrieve the Response \n",
    "chat_response = generative_ai_inference_client.chat(chat_detail) \n",
    "# Print result \n",
    "print(\"******************ChatResult******************\") \n",
    "print(vars(chat_response)) "
   ]
  },
  {
   "cell_type": "code",
   "execution_count": null,
   "id": "518a1d23-607c-4a9e-8428-861570332fc4",
   "metadata": {},
   "outputs": [],
   "source": []
  },
  {
   "cell_type": "code",
   "execution_count": null,
   "id": "573f83a8-3e89-4b25-acc2-7662bcaad49c",
   "metadata": {},
   "outputs": [],
   "source": []
  }
 ],
 "metadata": {
  "kernelspec": {
   "display_name": "Python 3 (ipykernel)",
   "language": "python",
   "name": "python3"
  },
  "language_info": {
   "codemirror_mode": {
    "name": "ipython",
    "version": 3
   },
   "file_extension": ".py",
   "mimetype": "text/x-python",
   "name": "python",
   "nbconvert_exporter": "python",
   "pygments_lexer": "ipython3",
   "version": "3.11.9"
  }
 },
 "nbformat": 4,
 "nbformat_minor": 5
}
